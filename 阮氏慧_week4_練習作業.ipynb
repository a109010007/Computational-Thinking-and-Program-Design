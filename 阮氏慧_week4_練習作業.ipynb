{
  "nbformat": 4,
  "nbformat_minor": 0,
  "metadata": {
    "colab": {
      "name": "阮氏慧-week4-練習作業.ipynb",
      "provenance": [],
      "authorship_tag": "ABX9TyNYOuUFeUWxo/s6PUKHz0p6",
      "include_colab_link": true
    },
    "kernelspec": {
      "name": "python3",
      "display_name": "Python 3"
    }
  },
  "cells": [
    {
      "cell_type": "markdown",
      "metadata": {
        "id": "view-in-github",
        "colab_type": "text"
      },
      "source": [
        "<a href=\"https://colab.research.google.com/github/a109010007/Computational-Thinking-and-Program-Design/blob/main/%E9%98%AE%E6%B0%8F%E6%85%A7_week4_%E7%B7%B4%E7%BF%92%E4%BD%9C%E6%A5%AD.ipynb\" target=\"_parent\"><img src=\"https://colab.research.google.com/assets/colab-badge.svg\" alt=\"Open In Colab\"/></a>"
      ]
    },
    {
      "cell_type": "markdown",
      "metadata": {
        "id": "ZYDLb2bXX7aD"
      },
      "source": [
        "#隨堂練習\r\n"
      ]
    },
    {
      "cell_type": "markdown",
      "metadata": {
        "id": "wef2urnDYDDU"
      },
      "source": [
        "#課後練習\r\n",
        "從一則新聞報導，提出你對新聞系學生為什麼要學「運算思維與程式設計」的見解。\r\n",
        "**根據網路新聞報導，新聞系要學運算思維與程式設計是因為從新聞製作過程的資料搜集，即時資料分析到行銷計劃相關的流量追蹤或是幫忙網頁套版或串選舉票數API等支援工程師的任務都能靠著基本的程式能力完成。\r\n"
      ]
    }
  ]
}